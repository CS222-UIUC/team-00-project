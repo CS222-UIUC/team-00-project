{
 "cells": [
  {
   "cell_type": "code",
   "execution_count": 17,
   "id": "db7f691f",
   "metadata": {},
   "outputs": [
    {
     "name": "stdout",
     "output_type": "stream",
     "text": [
      "/bin/bash: /home/u/anaconda3/envs/dxtf/lib/libtinfo.so.6: no version information available (required by /bin/bash)\n",
      "Requirement already satisfied: opencv-python in ./anaconda3/envs/pytorch/lib/python3.8/site-packages (4.11.0.86)\n",
      "Requirement already satisfied: numpy>=1.17.0 in ./anaconda3/envs/pytorch/lib/python3.8/site-packages (from opencv-python) (1.24.4)\n",
      "\n",
      "\u001b[1m[\u001b[0m\u001b[34;49mnotice\u001b[0m\u001b[1;39;49m]\u001b[0m\u001b[39;49m A new release of pip is available: \u001b[0m\u001b[31;49m24.3.1\u001b[0m\u001b[39;49m -> \u001b[0m\u001b[32;49m25.0.1\u001b[0m\n",
      "\u001b[1m[\u001b[0m\u001b[34;49mnotice\u001b[0m\u001b[1;39;49m]\u001b[0m\u001b[39;49m To update, run: \u001b[0m\u001b[32;49mpip install --upgrade pip\u001b[0m\n",
      "Note: you may need to restart the kernel to use updated packages.\n",
      "/bin/bash: /home/u/anaconda3/envs/dxtf/lib/libtinfo.so.6: no version information available (required by /bin/bash)\n",
      "Requirement already satisfied: opencv-contrib-python in ./anaconda3/envs/pytorch/lib/python3.8/site-packages (4.5.5.62)\n",
      "Requirement already satisfied: numpy>=1.14.5 in ./anaconda3/envs/pytorch/lib/python3.8/site-packages (from opencv-contrib-python) (1.24.4)\n",
      "\n",
      "\u001b[1m[\u001b[0m\u001b[34;49mnotice\u001b[0m\u001b[1;39;49m]\u001b[0m\u001b[39;49m A new release of pip is available: \u001b[0m\u001b[31;49m24.3.1\u001b[0m\u001b[39;49m -> \u001b[0m\u001b[32;49m25.0.1\u001b[0m\n",
      "\u001b[1m[\u001b[0m\u001b[34;49mnotice\u001b[0m\u001b[1;39;49m]\u001b[0m\u001b[39;49m To update, run: \u001b[0m\u001b[32;49mpip install --upgrade pip\u001b[0m\n",
      "Note: you may need to restart the kernel to use updated packages.\n"
     ]
    }
   ],
   "source": [
    "%pip install opencv-python\n",
    "%pip install opencv-contrib-python"
   ]
  },
  {
   "cell_type": "code",
   "execution_count": 23,
   "id": "ac367211",
   "metadata": {},
   "outputs": [
    {
     "name": "stdout",
     "output_type": "stream",
     "text": [
      "/bin/bash: /home/u/anaconda3/envs/dxtf/lib/libtinfo.so.6: no version information available (required by /bin/bash)\n",
      "\u001b[1m============================= test session starts ==============================\u001b[0m\n",
      "platform linux -- Python 3.8.19, pytest-8.3.5, pluggy-1.5.0\n",
      "rootdir: /home/u\n",
      "plugins: cov-5.0.0, anyio-4.5.2\n",
      "collected 6 items                                                              \u001b[0m\n",
      "\n",
      "CS222/test.py \u001b[32m.\u001b[0m\u001b[32m.\u001b[0m\u001b[32m.\u001b[0m\u001b[32m.\u001b[0m\u001b[32m.\u001b[0m\u001b[32m.\u001b[0m\u001b[33m                                                     [100%]\u001b[0m\n",
      "\n",
      "\u001b[33m=============================== warnings summary ===============================\u001b[0m\n",
      "CS222/test.py::test_main_no_symbols\n",
      "CS222/test.py::test_build_and_load_model\n",
      "  /home/u/anaconda3/envs/pytorch/lib/python3.8/site-packages/torchvision/models/_utils.py:208: UserWarning: The parameter 'pretrained' is deprecated since 0.13 and will be removed in 0.15, please use 'weights' instead.\n",
      "    warnings.warn(\n",
      "\n",
      "CS222/test.py::test_main_no_symbols\n",
      "CS222/test.py::test_build_and_load_model\n",
      "  /home/u/anaconda3/envs/pytorch/lib/python3.8/site-packages/torchvision/models/_utils.py:223: UserWarning: Arguments other than a weight enum or `None` for 'weights' are deprecated since 0.13 and will be removed in 0.15. The current behavior is equivalent to passing `weights=None`.\n",
      "    warnings.warn(msg)\n",
      "\n",
      "-- Docs: https://docs.pytest.org/en/stable/how-to/capture-warnings.html\n",
      "\u001b[33m======================== \u001b[32m6 passed\u001b[0m, \u001b[33m\u001b[1m4 warnings\u001b[0m\u001b[33m in 1.61s\u001b[0m\u001b[33m =========================\u001b[0m\n",
      "/bin/bash: /home/u/anaconda3/envs/dxtf/lib/libtinfo.so.6: no version information available (required by /bin/bash)\n",
      "Name                        Stmts   Miss  Cover   Missing\n",
      "---------------------------------------------------------\n",
      "CS222/__init__.py               0      0   100%\n",
      "CS222/classify_formula.py      71      4    94%   14, 100-102, 105\n",
      "CS222/test.py                  51      0   100%\n",
      "---------------------------------------------------------\n",
      "TOTAL                         122      4    97%\n"
     ]
    }
   ],
   "source": [
    "!coverage run --source=CS222 -m pytest CS222/test.py\n",
    "!coverage report -m"
   ]
  }
 ],
 "metadata": {
  "kernelspec": {
   "display_name": "pytorch",
   "language": "python",
   "name": "python3"
  },
  "language_info": {
   "codemirror_mode": {
    "name": "ipython",
    "version": 3
   },
   "file_extension": ".py",
   "mimetype": "text/x-python",
   "name": "python",
   "nbconvert_exporter": "python",
   "pygments_lexer": "ipython3",
   "version": "3.8.19"
  }
 },
 "nbformat": 4,
 "nbformat_minor": 5
}
