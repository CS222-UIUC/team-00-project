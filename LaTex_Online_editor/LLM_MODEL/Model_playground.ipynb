{
 "cells": [
  {
   "cell_type": "code",
   "execution_count": 1,
   "id": "b53befd2",
   "metadata": {},
   "outputs": [],
   "source": [
    "import re\n",
    "from llama_cpp import Llama\n",
    "\n",
    "model_Janus = r\"E:\\cs222\\Janus-Pro-7B-LM.Q6_K.gguf\"  # local path\n",
    "model_deepseek_r1 = r\"E:\\cs222\\DeepSeek-R1-q5_k_m.gguf\"  # local path\n",
    "model_deepseek_math = r\"E:\\cs222\\deepseek-math-7b-base-q8_0.gguf\"\n",
    "llm = Llama(\n",
    "    model_path=model_deepseek_math, n_ctx=4096, n_threads=16, n_gpu_layers=30, verbose=False\n",
    ")\n"
   ]
  },
  {
   "cell_type": "code",
   "execution_count": 2,
   "id": "abfaf252",
   "metadata": {},
   "outputs": [],
   "source": [
    "prompt_test = \"\"\"### Instruction:\n",
    "Convert the following math expression into LaTeX format only.\n",
    "Do not add any explanation or formatting.\n",
    "### Input:\n",
    "x squared plus y squared equals pi\n",
    "\n",
    "### Output:\n",
    "\"\"\""
   ]
  },
  {
   "cell_type": "code",
   "execution_count": 3,
   "id": "38748367",
   "metadata": {},
   "outputs": [],
   "source": [
    "def build_prompt_latex(user_input: str) -> str:\n",
    "    return f\"\"\"### Instruction:\n",
    "Convert the following math expression into LaTeX format only.\n",
    "Do not add any explanation or formatting.\n",
    "### Input:\n",
    "{user_input}\n",
    "\n",
    "### Output:\n",
    "\"\"\""
   ]
  },
  {
   "cell_type": "code",
   "execution_count": 4,
   "id": "c2adfee6",
   "metadata": {},
   "outputs": [],
   "source": [
    "import re\n",
    "\n",
    "def clean_latex_output(raw_output: str) -> str:\n",
    "    cleaned = re.sub(r'^\\${1,2}\\s*|\\s*\\${1,2}$', '', raw_output.strip())\n",
    "    cleaned = re.sub(r'[\"`]{2,}|\\\\n+$', '', cleaned).strip()\n",
    "\n",
    "    return cleaned"
   ]
  },
  {
   "cell_type": "code",
   "execution_count": 5,
   "id": "c263c95d",
   "metadata": {},
   "outputs": [],
   "source": [
    "def get_latex(user_input: str) -> str:\n",
    "    prompt = build_prompt_latex(user_input)\n",
    "    response = llm(\n",
    "        prompt,\n",
    "        max_tokens=1200,\n",
    "        temperature=0,            #for deterministic output for math\n",
    "        repeat_penalty=1.0,       #natural language  \n",
    "        top_k=0,                  #no sampling only choosing the top token \n",
    "        top_p=1.0,                #include all tokens\n",
    "        stop=[\"###\", '\"\"\"'],\n",
    "    )\n",
    "    output = clean_latex_output(response['choices'][0]['text'])\n",
    "    return output\n",
    "\n"
   ]
  },
  {
   "cell_type": "code",
   "execution_count": 6,
   "id": "c3c841c8",
   "metadata": {},
   "outputs": [
    {
     "data": {
      "text/plain": [
       "'\\\\int_{0}^{100} y dy'"
      ]
     },
     "execution_count": 6,
     "metadata": {},
     "output_type": "execute_result"
    }
   ],
   "source": [
    "get_latex(\"integral of y from 0 to 100\")"
   ]
  },
  {
   "cell_type": "code",
   "execution_count": 7,
   "id": "1b736ca2",
   "metadata": {},
   "outputs": [
    {
     "name": "stdout",
     "output_type": "stream",
     "text": [
      "Input: A 6*6 matrix A with elements a_ij\n",
      "Output: \\begin{bmatrix}\n",
      "a_{11} & a_{12} & a_{13} & a_{14} & a_{15} & a_{16} \\\\\n",
      "a_{21} & a_{22} & a_{23} & a_{24} & a_{25} & a_{26} \\\\\n",
      "a_{31} & a_{32} & a_{33} & a_{34} & a_{35} & a_{36} \\\\\n",
      "a_{41} & a_{42} & a_{43} & a_{44} & a_{45} & a_{46} \\\\\n",
      "a_{51} & a_{52} & a_{53} & a_{54} & a_{55} & a_{56} \\\\\n",
      "a_{61} & a_{62} & a_{63} & a_{64} & a_{65} & a_{66} \\\\\n",
      "\\end{bmatrix}\n",
      "--------------------------------------------------\n",
      "Input: A 2*2 matrix A with elements a_ij\n",
      "Output: \\begin{bmatrix}\n",
      "a_{11} & a_{12} \\\\\n",
      "a_{21} & a_{22}\n",
      "\\end{bmatrix}\n",
      "--------------------------------------------------\n",
      "Input: the derivative of x squared\n",
      "Output: \\frac{d}{dx}x^2\n",
      "--------------------------------------------------\n",
      "Input: the integral of x squared from 0 to 1\n",
      "Output: \\int_{0}^{1} x^2 dx\n",
      "--------------------------------------------------\n",
      "Input: sum from i equals 1 to n of i squared\n",
      "Output: \\sum_{i=1}^{n}i^2\n",
      "--------------------------------------------------\n",
      "Input: a over b\n",
      "Output: \\frac{a}{b}\n",
      "--------------------------------------------------\n",
      "Input: x sub i\n",
      "Output: x_i\n",
      "--------------------------------------------------\n",
      "Input: A 6*6 matrix A with elements a_ij, where i and j are integers from 1 to 6, and the elements are defined as follows: a_ij = i^2 + j^2 for all i,j in {1,2,3,4,5,6}\n",
      "Output: A = \\begin{bmatrix}\n",
      "2 & 5 & 10 & 17 & 26 & 37 \\\\\n",
      "5 & 8 & 13 & 20 & 29 & 40 \\\\\n",
      "10 & 13 & 18 & 25 & 34 & 45 \\\\\n",
      "17 & 20 & 25 & 32 & 41 & 52 \\\\\n",
      "26 & 29 & 34 & 41 & 50 & 61 \\\\\n",
      "37 & 40 & 45 & 52 & 61 & 72\n",
      "\\end{bmatrix}\n",
      "--------------------------------------------------\n"
     ]
    }
   ],
   "source": [
    "# Test cases for the latex generator\n",
    "testing_input_complex_matrix = \"A 6*6 matrix A with elements a_ij\"\n",
    "testing_input_simple_matrix = \"A 2*2 matrix A with elements a_ij\"\n",
    "testing_input_simple_derivative = \"the derivative of x squared\"\n",
    "testing_input_simple_integral = \"the integral of x squared from 0 to 1\"\n",
    "testing_input_simple_sum = \"sum from i equals 1 to n of i squared\"\n",
    "testing_input_simple_fraction = \"a over b\"\n",
    "testing_input_simple_subscript = \"x sub i\"\n",
    "testing_input_matrix_crazy = \"A 6*6 matrix A with elements a_ij, where i and j are integers from 1 to 6, and the elements are defined as follows: a_ij = i^2 + j^2 for all i,j in {1,2,3,4,5,6}\"\n",
    "tests = [\n",
    "    testing_input_complex_matrix,\n",
    "    testing_input_simple_matrix,\n",
    "    testing_input_simple_derivative,\n",
    "    testing_input_simple_integral,\n",
    "    testing_input_simple_sum,\n",
    "    testing_input_simple_fraction,\n",
    "    testing_input_simple_subscript,\n",
    "    testing_input_matrix_crazy,\n",
    "]\n",
    "for test in tests:\n",
    "    print(f\"Input: {test}\")\n",
    "    print(f\"Output: {get_latex(test)}\")\n",
    "    print(\"-\" * 50)"
   ]
  }
 ],
 "metadata": {
  "kernelspec": {
   "display_name": "llamacpppy",
   "language": "python",
   "name": "python3"
  },
  "language_info": {
   "codemirror_mode": {
    "name": "ipython",
    "version": 3
   },
   "file_extension": ".py",
   "mimetype": "text/x-python",
   "name": "python",
   "nbconvert_exporter": "python",
   "pygments_lexer": "ipython3",
   "version": "3.10.16"
  }
 },
 "nbformat": 4,
 "nbformat_minor": 5
}
