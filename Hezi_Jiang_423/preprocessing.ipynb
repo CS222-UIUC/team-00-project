{
 "cells": [
  {
   "cell_type": "code",
   "execution_count": 29,
   "id": "01290f44",
   "metadata": {},
   "outputs": [
    {
     "name": "stdout",
     "output_type": "stream",
     "text": [
      "Requirement already satisfied: opencv-python in /Users/ravanryj/miniconda3/envs/torch/lib/python3.11/site-packages (4.11.0.86)\n",
      "Requirement already satisfied: numpy>=1.21.2 in /Users/ravanryj/miniconda3/envs/torch/lib/python3.11/site-packages (from opencv-python) (1.26.4)\n",
      "Note: you may need to restart the kernel to use updated packages.\n",
      "Requirement already satisfied: opencv-contrib-python in /Users/ravanryj/miniconda3/envs/torch/lib/python3.11/site-packages (4.11.0.86)\n",
      "Requirement already satisfied: numpy>=1.21.2 in /Users/ravanryj/miniconda3/envs/torch/lib/python3.11/site-packages (from opencv-contrib-python) (1.26.4)\n",
      "Note: you may need to restart the kernel to use updated packages.\n"
     ]
    }
   ],
   "source": [
    "%pip install opencv-python\n",
    "%pip install opencv-contrib-python"
   ]
  },
  {
   "cell_type": "code",
   "execution_count": 30,
   "id": "522180f1",
   "metadata": {},
   "outputs": [],
   "source": [
    "# connected_components\n",
    "import cv2\n",
    "import numpy as np\n",
    "\n",
    "def connected_components(image_input, min_area=10):\n",
    "    \"\"\"\n",
    "    Given an image of a handwritten formula, extract and return individual symbol images.\n",
    "    \n",
    "    Args:\n",
    "        image_input: str (file path) or np.ndarray (image loaded already)\n",
    "        min_area: minimum area to filter out small noise\n",
    "    \n",
    "    Returns:\n",
    "        List of np.ndarray: each is a cropped image of a symbol\n",
    "    \"\"\"\n",
    "    if isinstance(image_input, str):\n",
    "        img = cv2.imread(image_input, cv2.IMREAD_GRAYSCALE)\n",
    "    else:\n",
    "        img = image_input.copy()\n",
    "\n",
    "    _, binary = cv2.threshold(img, 0, 255, cv2.THRESH_BINARY_INV + cv2.THRESH_OTSU)\n",
    "\n",
    "    num_labels, labels, stats, _ = cv2.connectedComponentsWithStats(binary)\n",
    "\n",
    "    symbols = []\n",
    "    for i in range(1, num_labels):\n",
    "        x, y, w, h, area = stats[i]\n",
    "        if area >= min_area:\n",
    "            symbol_img = binary[y:y+h, x:x+w]\n",
    "            symbols.append((x, symbol_img))\n",
    "\n",
    "    symbols.sort(key=lambda item: item[0])\n",
    "\n",
    "    return [img for (_, img) in symbols]\n"
   ]
  },
  {
   "cell_type": "code",
   "execution_count": 31,
   "id": "ce7ed1d3",
   "metadata": {},
   "outputs": [
    {
     "data": {
      "image/png": "[encoded data removed]",
      "text/plain": [
       "<Figure size 100x100 with 1 Axes>"
      ]
     },
     "metadata": {},
     "output_type": "display_data"
    },
    {
     "data": {
      "image/png": "[encoded data removed]",
      "text/plain": [
       "<Figure size 100x100 with 1 Axes>"
      ]
     },
     "metadata": {},
     "output_type": "display_data"
    },
    {
     "data": {
      "image/png": "[encoded data removed]",
      "text/plain": [
       "<Figure size 100x100 with 1 Axes>"
      ]
     },
     "metadata": {},
     "output_type": "display_data"
    },
    {
     "data": {
      "image/png": "[encoded data removed]",
      "text/plain": [
       "<Figure size 100x100 with 1 Axes>"
      ]
     },
     "metadata": {},
     "output_type": "display_data"
    },
    {
     "data": {
      "image/png": "[encoded data removed]",
      "text/plain": [
       "<Figure size 100x100 with 1 Axes>"
      ]
     },
     "metadata": {},
     "output_type": "display_data"
    }
   ],
   "source": [
    "import matplotlib.pyplot as plt\n",
    "\n",
    "symbols = connected_components(\"test.jpg\")\n",
    "\n",
    "for i, symbol_img in enumerate(symbols):\n",
    "    plt.figure(figsize=(1, 1))\n",
    "    plt.imshow(symbol_img, cmap='gray')\n",
    "    plt.axis('off')\n",
    "    plt.title(f\"Symbol {i}\")\n",
    "    plt.show()"
   ]
  },
  {
   "cell_type": "code",
   "execution_count": 34,
   "id": "bba64301",
   "metadata": {},
   "outputs": [
    {
     "name": "stdout",
     "output_type": "stream",
     "text": [
      "Found existing installation: runipy 0.1.5\n",
      "Uninstalling runipy-0.1.5:\n",
      "  Successfully uninstalled runipy-0.1.5\n",
      "Found existing installation: pytest-ipynb 1.1.1\n",
      "Uninstalling pytest-ipynb-1.1.1:\n",
      "  Successfully uninstalled pytest-ipynb-1.1.1\n",
      "\u001b[1m============================= test session starts ==============================\u001b[0m\n",
      "platform darwin -- Python 3.11.8, pytest-8.3.5, pluggy-1.5.0\n",
      "rootdir: /Users/ravanryj/Desktop/team-00-project/Hezi_Jiang_423\n",
      "plugins: anyio-4.3.0, cov-6.1.1\n",
      "collected 2 items                                                              \u001b[0m\n",
      "\n",
      "test_components.py \u001b[32m.\u001b[0m\u001b[32m.\u001b[0m\u001b[32m                                                    [100%]\u001b[0m\n",
      "\n",
      "================================ tests coverage ================================\n",
      "_______________ coverage: platform darwin, python 3.11.8-final-0 _______________\n",
      "\n",
      "Coverage HTML written to dir htmlcov\n",
      "\u001b[32m============================== \u001b[32m\u001b[1m2 passed\u001b[0m\u001b[32m in 0.21s\u001b[0m\u001b[32m ===============================\u001b[0m\n",
      "\u001b[1m============================= test session starts ==============================\u001b[0m\n",
      "platform darwin -- Python 3.11.8, pytest-8.3.5, pluggy-1.5.0\n",
      "rootdir: /Users/ravanryj/Desktop/team-00-project/Hezi_Jiang_423\n",
      "plugins: anyio-4.3.0, cov-6.1.1\n",
      "collected 2 items                                                              \u001b[0m\n",
      "\n",
      "test_components.py \u001b[32m.\u001b[0m\u001b[32m.\u001b[0m\u001b[32m                                                    [100%]\u001b[0m\n",
      "\n",
      "================================ tests coverage ================================\n",
      "_______________ coverage: platform darwin, python 3.11.8-final-0 _______________\n",
      "\n",
      "Name                      Stmts   Miss  Cover\n",
      "---------------------------------------------\n",
      "connected_components.py      16      1    94%\n",
      "---------------------------------------------\n",
      "TOTAL                        16      1    94%\n",
      "\u001b[32m============================== \u001b[32m\u001b[1m2 passed\u001b[0m\u001b[32m in 0.19s\u001b[0m\u001b[32m ===============================\u001b[0m\n"
     ]
    },
    {
     "data": {
      "text/plain": [
       "True"
      ]
     },
     "execution_count": 34,
     "metadata": {},
     "output_type": "execute_result"
    }
   ],
   "source": [
    "!pip uninstall -y runipy\n",
    "!pip uninstall -y pytest-ipynb\n",
    "!pytest --cov=connected_components test_components.py --cov-report=html\n",
    "!pytest --cov=connected_components test_components.py --cov-report=term\n",
    "import webbrowser\n",
    "webbrowser.open(\"htmlcov/index.html\")"
   ]
  },
  {
   "cell_type": "code",
   "execution_count": 35,
   "id": "096cd89f",
   "metadata": {},
   "outputs": [
    {
     "name": "stdout",
     "output_type": "stream",
     "text": [
      "Requirement already satisfied: torch in /Users/ravanryj/miniconda3/envs/torch/lib/python3.11/site-packages (2.2.1)\n",
      "Requirement already satisfied: torchvision in /Users/ravanryj/miniconda3/envs/torch/lib/python3.11/site-packages (0.17.1)\n",
      "Requirement already satisfied: matplotlib in /Users/ravanryj/miniconda3/envs/torch/lib/python3.11/site-packages (3.8.3)\n",
      "Requirement already satisfied: filelock in /Users/ravanryj/miniconda3/envs/torch/lib/python3.11/site-packages (from torch) (3.13.1)\n",
      "Requirement already satisfied: typing-extensions>=4.8.0 in /Users/ravanryj/miniconda3/envs/torch/lib/python3.11/site-packages (from torch) (4.9.0)\n",
      "Requirement already satisfied: sympy in /Users/ravanryj/miniconda3/envs/torch/lib/python3.11/site-packages (from torch) (1.12)\n",
      "Requirement already satisfied: networkx in /Users/ravanryj/miniconda3/envs/torch/lib/python3.11/site-packages (from torch) (3.2.1)\n",
      "Requirement already satisfied: jinja2 in /Users/ravanryj/miniconda3/envs/torch/lib/python3.11/site-packages (from torch) (3.1.3)\n",
      "Requirement already satisfied: fsspec in /Users/ravanryj/miniconda3/envs/torch/lib/python3.11/site-packages (from torch) (2025.3.2)\n",
      "Requirement already satisfied: numpy in /Users/ravanryj/miniconda3/envs/torch/lib/python3.11/site-packages (from torchvision) (1.26.4)\n",
      "Requirement already satisfied: pillow!=8.3.*,>=5.3.0 in /Users/ravanryj/miniconda3/envs/torch/lib/python3.11/site-packages (from torchvision) (10.2.0)\n",
      "Requirement already satisfied: contourpy>=1.0.1 in /Users/ravanryj/miniconda3/envs/torch/lib/python3.11/site-packages (from matplotlib) (1.2.0)\n",
      "Requirement already satisfied: cycler>=0.10 in /Users/ravanryj/miniconda3/envs/torch/lib/python3.11/site-packages (from matplotlib) (0.12.1)\n",
      "Requirement already satisfied: fonttools>=4.22.0 in /Users/ravanryj/miniconda3/envs/torch/lib/python3.11/site-packages (from matplotlib) (4.48.1)\n",
      "Requirement already satisfied: kiwisolver>=1.3.1 in /Users/ravanryj/miniconda3/envs/torch/lib/python3.11/site-packages (from matplotlib) (1.4.5)\n",
      "Requirement already satisfied: packaging>=20.0 in /Users/ravanryj/miniconda3/envs/torch/lib/python3.11/site-packages (from matplotlib) (23.2)\n",
      "Requirement already satisfied: pyparsing>=2.3.1 in /Users/ravanryj/miniconda3/envs/torch/lib/python3.11/site-packages (from matplotlib) (3.1.1)\n",
      "Requirement already satisfied: python-dateutil>=2.7 in /Users/ravanryj/miniconda3/envs/torch/lib/python3.11/site-packages (from matplotlib) (2.8.2)\n",
      "Requirement already satisfied: six>=1.5 in /Users/ravanryj/miniconda3/envs/torch/lib/python3.11/site-packages (from python-dateutil>=2.7->matplotlib) (1.16.0)\n",
      "Requirement already satisfied: MarkupSafe>=2.0 in /Users/ravanryj/miniconda3/envs/torch/lib/python3.11/site-packages (from jinja2->torch) (2.1.5)\n",
      "Requirement already satisfied: mpmath>=0.19 in /Users/ravanryj/miniconda3/envs/torch/lib/python3.11/site-packages (from sympy->torch) (1.3.0)\n",
      "Note: you may need to restart the kernel to use updated packages.\n"
     ]
    }
   ],
   "source": [
    "%pip install torch torchvision matplotlib"
   ]
  },
  {
   "cell_type": "code",
   "execution_count": 36,
   "id": "5597b926",
   "metadata": {},
   "outputs": [],
   "source": [
    "# Faster R-CNN\n",
    "import torch\n",
    "import torchvision\n",
    "from torchvision import transforms\n",
    "from PIL import Image\n",
    "import numpy as np\n",
    "\n",
    "def detect_symbols_frcnn(image_input, confidence_threshold=0.5):\n",
    "    \"\"\"\n",
    "    Detect symbols in a handwritten formula using Faster R-CNN.\n",
    "\n",
    "    Args:\n",
    "        image_input: file path or a numpy array or PIL.Image\n",
    "        confidence_threshold: filter out low confidence boxes\n",
    "\n",
    "    Returns:\n",
    "        List of cropped symbol images (as numpy arrays)\n",
    "    \"\"\"\n",
    "    if isinstance(image_input, str):\n",
    "        image = Image.open(image_input).convert(\"RGB\")\n",
    "    elif isinstance(image_input, np.ndarray):\n",
    "        image = Image.fromarray(image_input).convert(\"RGB\")\n",
    "    elif isinstance(image_input, Image.Image):\n",
    "        image = image_input.convert(\"RGB\")\n",
    "    else:\n",
    "        raise ValueError(\"Unsupported image input type\")\n",
    "\n",
    "    transform = transforms.Compose([\n",
    "        transforms.ToTensor()\n",
    "    ])\n",
    "    img_tensor = transform(image)\n",
    "\n",
    "    model = torchvision.models.detection.fasterrcnn_resnet50_fpn(pretrained=True)\n",
    "    model.eval()\n",
    "\n",
    "    with torch.no_grad():\n",
    "        predictions = model([img_tensor])[0]\n",
    "\n",
    "    boxes = predictions['boxes']\n",
    "    scores = predictions['scores']\n",
    "\n",
    "    cropped = []\n",
    "    for box, score in zip(boxes, scores):\n",
    "        if score >= confidence_threshold:\n",
    "            xmin, ymin, xmax, ymax = box.int().tolist()\n",
    "            cropped_img = img_tensor[:, ymin:ymax, xmin:xmax].mul(255).byte().permute(1, 2, 0).numpy()\n",
    "            cropped.append(cropped_img)\n",
    "\n",
    "    return cropped\n"
   ]
  },
  {
   "cell_type": "code",
   "execution_count": 42,
   "id": "2888ce44",
   "metadata": {},
   "outputs": [
    {
     "data": {
      "image/png": "[encoded data removed]",
      "text/plain": [
       "<Figure size 200x200 with 1 Axes>"
      ]
     },
     "metadata": {},
     "output_type": "display_data"
    },
    {
     "data": {
      "image/png": "[encoded data removed]",
      "text/plain": [
       "<Figure size 200x200 with 1 Axes>"
      ]
     },
     "metadata": {},
     "output_type": "display_data"
    },
    {
     "data": {
      "image/png": "[encoded data removed]",
      "text/plain": [
       "<Figure size 200x200 with 1 Axes>"
      ]
     },
     "metadata": {},
     "output_type": "display_data"
    }
   ],
   "source": [
    "import matplotlib.pyplot as plt\n",
    "import cv2 \n",
    "\n",
    "symbols = detect_symbols_frcnn(\"test.jpg\", confidence_threshold=0.1)\n",
    "\n",
    "for i, s in enumerate(symbols):\n",
    "    plt.figure(figsize=(2, 2))\n",
    "    if len(s.shape) == 3 and s.shape[2] == 3:\n",
    "        s = cv2.cvtColor(s, cv2.COLOR_BGR2RGB)\n",
    "    plt.imshow(s, cmap='gray' if len(s.shape) == 2 else None)\n",
    "    plt.title(f\"Symbol {i}\")\n",
    "    plt.axis('off')\n",
    "    plt.show()\n"
   ]
  },
  {
   "cell_type": "code",
   "execution_count": 45,
   "id": "b500248e",
   "metadata": {},
   "outputs": [
    {
     "name": "stdout",
     "output_type": "stream",
     "text": [
      "\u001b[1m============================= test session starts ==============================\u001b[0m\n",
      "platform darwin -- Python 3.11.8, pytest-8.3.5, pluggy-1.5.0\n",
      "rootdir: /Users/ravanryj/Desktop/team-00-project/Hezi_Jiang_423\n",
      "plugins: anyio-4.3.0, cov-6.1.1\n",
      "collected 3 items                                                              \u001b[0m\u001b[1m\n",
      "\n",
      "test_detect_symbols.py \u001b[32m.\u001b[0m\u001b[32m.\u001b[0m\u001b[32m.\u001b[0m\u001b[33m                                               [100%]\u001b[0m\n",
      "\n",
      "\u001b[33m=============================== warnings summary ===============================\u001b[0m\n",
      "test_detect_symbols.py::test_detect_symbols_empty_image\n",
      "test_detect_symbols.py::test_detect_symbols_real_image\n",
      "  /Users/ravanryj/miniconda3/envs/torch/lib/python3.11/site-packages/torchvision/models/_utils.py:208: UserWarning: The parameter 'pretrained' is deprecated since 0.13 and may be removed in the future, please use 'weights' instead.\n",
      "    warnings.warn(\n",
      "\n",
      "test_detect_symbols.py::test_detect_symbols_empty_image\n",
      "test_detect_symbols.py::test_detect_symbols_real_image\n",
      "  /Users/ravanryj/miniconda3/envs/torch/lib/python3.11/site-packages/torchvision/models/_utils.py:223: UserWarning: Arguments other than a weight enum or `None` for 'weights' are deprecated since 0.13 and may be removed in the future. The current behavior is equivalent to passing `weights=FasterRCNN_ResNet50_FPN_Weights.COCO_V1`. You can also use `weights=FasterRCNN_ResNet50_FPN_Weights.DEFAULT` to get the most up-to-date weights.\n",
      "    warnings.warn(msg)\n",
      "\n",
      "-- Docs: https://docs.pytest.org/en/stable/how-to/capture-warnings.html\n",
      "================================ tests coverage ================================\n",
      "_______________ coverage: platform darwin, python 3.11.8-final-0 _______________\n",
      "\n",
      "Name                Stmts   Miss  Cover\n",
      "---------------------------------------\n",
      "detect_symbols.py      28      1    96%\n",
      "---------------------------------------\n",
      "TOTAL                  28      1    96%\n",
      "Coverage HTML written to dir htmlcov\n",
      "\u001b[33m======================== \u001b[32m3 passed\u001b[0m, \u001b[33m\u001b[1m4 warnings\u001b[0m\u001b[33m in 4.59s\u001b[0m\u001b[33m =========================\u001b[0m\n"
     ]
    },
    {
     "data": {
      "text/plain": [
       "True"
      ]
     },
     "execution_count": 45,
     "metadata": {},
     "output_type": "execute_result"
    }
   ],
   "source": [
    "!pytest --cov=detect_symbols test_detect_symbols.py --cov-report=term --cov-report=html\n",
    "import webbrowser\n",
    "webbrowser.open('htmlcov/index.html')"
   ]
  },
  {
   "cell_type": "code",
   "execution_count": 46,
   "id": "1d534b33",
   "metadata": {},
   "outputs": [
    {
     "name": "stdout",
     "output_type": "stream",
     "text": [
      "Requirement already satisfied: torch in /Users/ravanryj/miniconda3/envs/torch/lib/python3.11/site-packages (2.2.1)\n",
      "Requirement already satisfied: torchvision in /Users/ravanryj/miniconda3/envs/torch/lib/python3.11/site-packages (0.17.1)\n",
      "Requirement already satisfied: matplotlib in /Users/ravanryj/miniconda3/envs/torch/lib/python3.11/site-packages (3.8.3)\n",
      "Requirement already satisfied: opencv-python in /Users/ravanryj/miniconda3/envs/torch/lib/python3.11/site-packages (4.11.0.86)\n",
      "Requirement already satisfied: filelock in /Users/ravanryj/miniconda3/envs/torch/lib/python3.11/site-packages (from torch) (3.13.1)\n",
      "Requirement already satisfied: typing-extensions>=4.8.0 in /Users/ravanryj/miniconda3/envs/torch/lib/python3.11/site-packages (from torch) (4.9.0)\n",
      "Requirement already satisfied: sympy in /Users/ravanryj/miniconda3/envs/torch/lib/python3.11/site-packages (from torch) (1.12)\n",
      "Requirement already satisfied: networkx in /Users/ravanryj/miniconda3/envs/torch/lib/python3.11/site-packages (from torch) (3.2.1)\n",
      "Requirement already satisfied: jinja2 in /Users/ravanryj/miniconda3/envs/torch/lib/python3.11/site-packages (from torch) (3.1.3)\n",
      "Requirement already satisfied: fsspec in /Users/ravanryj/miniconda3/envs/torch/lib/python3.11/site-packages (from torch) (2025.3.2)\n",
      "Requirement already satisfied: numpy in /Users/ravanryj/miniconda3/envs/torch/lib/python3.11/site-packages (from torchvision) (1.26.4)\n",
      "Requirement already satisfied: pillow!=8.3.*,>=5.3.0 in /Users/ravanryj/miniconda3/envs/torch/lib/python3.11/site-packages (from torchvision) (10.2.0)\n",
      "Requirement already satisfied: contourpy>=1.0.1 in /Users/ravanryj/miniconda3/envs/torch/lib/python3.11/site-packages (from matplotlib) (1.2.0)\n",
      "Requirement already satisfied: cycler>=0.10 in /Users/ravanryj/miniconda3/envs/torch/lib/python3.11/site-packages (from matplotlib) (0.12.1)\n",
      "Requirement already satisfied: fonttools>=4.22.0 in /Users/ravanryj/miniconda3/envs/torch/lib/python3.11/site-packages (from matplotlib) (4.48.1)\n",
      "Requirement already satisfied: kiwisolver>=1.3.1 in /Users/ravanryj/miniconda3/envs/torch/lib/python3.11/site-packages (from matplotlib) (1.4.5)\n",
      "Requirement already satisfied: packaging>=20.0 in /Users/ravanryj/miniconda3/envs/torch/lib/python3.11/site-packages (from matplotlib) (23.2)\n",
      "Requirement already satisfied: pyparsing>=2.3.1 in /Users/ravanryj/miniconda3/envs/torch/lib/python3.11/site-packages (from matplotlib) (3.1.1)\n",
      "Requirement already satisfied: python-dateutil>=2.7 in /Users/ravanryj/miniconda3/envs/torch/lib/python3.11/site-packages (from matplotlib) (2.8.2)\n",
      "Requirement already satisfied: six>=1.5 in /Users/ravanryj/miniconda3/envs/torch/lib/python3.11/site-packages (from python-dateutil>=2.7->matplotlib) (1.16.0)\n",
      "Requirement already satisfied: MarkupSafe>=2.0 in /Users/ravanryj/miniconda3/envs/torch/lib/python3.11/site-packages (from jinja2->torch) (2.1.5)\n",
      "Requirement already satisfied: mpmath>=0.19 in /Users/ravanryj/miniconda3/envs/torch/lib/python3.11/site-packages (from sympy->torch) (1.3.0)\n",
      "Note: you may need to restart the kernel to use updated packages.\n"
     ]
    }
   ],
   "source": [
    "%pip install torch torchvision matplotlib opencv-python"
   ]
  },
  {
   "cell_type": "code",
   "execution_count": null,
   "id": "2f12b959",
   "metadata": {},
   "outputs": [],
   "source": [
    "# U-Net\n",
    "import torch\n",
    "import torch.nn as nn\n",
    "import torch.nn.functional as F\n",
    "\n",
    "class UNet(nn.Module):\n",
    "    def __init__(self, in_channels=1, out_channels=1):\n",
    "        super().__init__()\n",
    "        def CBR(in_c, out_c):\n",
    "            return nn.Sequential(\n",
    "                nn.Conv2d(in_c, out_c, 3, padding=1),\n",
    "                nn.BatchNorm2d(out_c),\n",
    "                nn.ReLU(inplace=True)\n",
    "            )\n",
    "\n",
    "        self.enc1 = nn.Sequential(CBR(in_channels, 64), CBR(64, 64))\n",
    "        self.enc2 = nn.Sequential(CBR(64, 128), CBR(128, 128))\n",
    "        self.pool = nn.MaxPool2d(2, 2)\n",
    "        self.dec1 = nn.Sequential(CBR(128, 64), CBR(64, 64))\n",
    "        self.final = nn.Conv2d(64, out_channels, 1)\n",
    "\n",
    "    def forward(self, x):\n",
    "        e1 = self.enc1(x)\n",
    "        e2 = self.enc2(self.pool(e1))\n",
    "        d1 = F.interpolate(e2, scale_factor=2)\n",
    "        d1 = self.dec1(d1)\n",
    "        out = self.final(d1)\n",
    "        return torch.sigmoid(out)\n",
    "    \n",
    "import cv2\n",
    "import numpy as np\n",
    "from torchvision import transforms\n",
    "\n",
    "def segment_symbols_unet(image_input, model, threshold=0.5, min_area=10):\n",
    "    \"\"\"\n",
    "    Use U-Net to segment and extract individual symbol images.\n",
    "    \"\"\"\n",
    "    if isinstance(image_input, str):\n",
    "        image = cv2.imread(image_input, cv2.IMREAD_GRAYSCALE)\n",
    "    elif isinstance(image_input, np.ndarray):\n",
    "        image = image_input\n",
    "    else:\n",
    "        raise ValueError(\"Unsupported input type\")\n",
    "\n",
    "    h, w = image.shape\n",
    "    tensor = transforms.ToTensor()(image).unsqueeze(0)\n",
    "\n",
    "    with torch.no_grad():\n",
    "        pred_mask = model(tensor)[0, 0].numpy()\n",
    "\n",
    "    binary_mask = (pred_mask > threshold).astype(np.uint8) * 255\n",
    "\n",
    "    num_labels, labels, stats, _ = cv2.connectedComponentsWithStats(binary_mask)\n",
    "\n",
    "    symbols = []\n",
    "    for i in range(1, num_labels):\n",
    "        x, y, w, h, area = stats[i]\n",
    "        if area >= min_area:\n",
    "            symbols.append(image[y:y+h, x:x+w])\n",
    "\n",
    "    return symbols\n",
    "\n"
   ]
  },
  {
   "cell_type": "code",
   "execution_count": 48,
   "id": "48751dc4",
   "metadata": {},
   "outputs": [
    {
     "data": {
      "image/png": "[encoded data removed]",
      "text/plain": [
       "<Figure size 640x480 with 1 Axes>"
      ]
     },
     "metadata": {},
     "output_type": "display_data"
    }
   ],
   "source": [
    "model = UNet()\n",
    "\n",
    "symbols = segment_symbols_unet(\"test.jpg\", model)\n",
    "\n",
    "import matplotlib.pyplot as plt\n",
    "for i, sym in enumerate(symbols):\n",
    "    plt.imshow(sym, cmap='gray')\n",
    "    plt.title(f\"Symbol {i}\")\n",
    "    plt.axis('off')\n",
    "    plt.show()"
   ]
  },
  {
   "cell_type": "code",
   "execution_count": 49,
   "id": "ee6d6b49",
   "metadata": {},
   "outputs": [
    {
     "name": "stdout",
     "output_type": "stream",
     "text": [
      "\u001b[1m============================= test session starts ==============================\u001b[0m\n",
      "platform darwin -- Python 3.11.8, pytest-8.3.5, pluggy-1.5.0\n",
      "rootdir: /Users/ravanryj/Desktop/team-00-project/Hezi_Jiang_423\n",
      "plugins: anyio-4.3.0, cov-6.1.1\n",
      "collected 2 items                                                              \u001b[0m\u001b[1m\n",
      "\n",
      "test_unet_model.py \u001b[32m.\u001b[0m\u001b[32m.\u001b[0m\u001b[32m                                                    [100%]\u001b[0m\n",
      "\n",
      "================================ tests coverage ================================\n",
      "_______________ coverage: platform darwin, python 3.11.8-final-0 _______________\n",
      "\n",
      "Name            Stmts   Miss  Cover\n",
      "-----------------------------------\n",
      "unet_model.py      41      1    98%\n",
      "-----------------------------------\n",
      "TOTAL              41      1    98%\n",
      "Coverage HTML written to dir htmlcov\n",
      "\u001b[32m============================== \u001b[32m\u001b[1m2 passed\u001b[0m\u001b[32m in 1.98s\u001b[0m\u001b[32m ===============================\u001b[0m\n"
     ]
    },
    {
     "data": {
      "text/plain": [
       "True"
      ]
     },
     "execution_count": 49,
     "metadata": {},
     "output_type": "execute_result"
    }
   ],
   "source": [
    "!pytest --cov=unet_model test_unet_model.py --cov-report=term --cov-report=html\n",
    "import webbrowser\n",
    "webbrowser.open('htmlcov/index.html')"
   ]
  }
 ],
 "metadata": {
  "kernelspec": {
   "display_name": "Python 3.11 (torch)",
   "language": "python",
   "name": "pytorch"
  },
  "language_info": {
   "codemirror_mode": {
    "name": "ipython",
    "version": 3
   },
   "file_extension": ".py",
   "mimetype": "text/x-python",
   "name": "python",
   "nbconvert_exporter": "python",
   "pygments_lexer": "ipython3",
   "version": "3.11.8"
  }
 },
 "nbformat": 4,
 "nbformat_minor": 5
}
